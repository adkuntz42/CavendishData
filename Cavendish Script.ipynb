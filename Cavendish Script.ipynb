{
 "cells": [
  {
   "cell_type": "code",
   "execution_count": 21,
   "id": "a498124c",
   "metadata": {},
   "outputs": [],
   "source": [
    "import numpy as np\n",
    "import matplotlib.pyplot as plt\n",
    "import matplotlib as mpl\n",
    "import scipy.optimize as opt"
   ]
  },
  {
   "cell_type": "markdown",
   "id": "c1f19905",
   "metadata": {},
   "source": [
    "Large sphere mass = 0.8807 ± 0.0001 kg\n",
    "\n",
    "Large sphere radius = 0.0268 ± 0.0001 m\n",
    "\n",
    "Small sphere mass = 0.01548 ± 0.00001 kg\n",
    "\n",
    "Small sphere radius = 0.00684 ± 0.00001 m\n",
    "\n",
    "Distance between small and large sphere = 0.048 ± 0.005 m\n",
    "\n",
    "Distance from center of beam to center of small spheres = 0.0662 ± 0.0001 m\n",
    "\n",
    "Beam length = 0.1483 ± 0.0005 m\n",
    "\n",
    "Beam width = 0.0121 ± 0.0005 m\n",
    "\n",
    "Beam mass = 0.0091 ± 0.0001 kg"
   ]
  },
  {
   "cell_type": "code",
   "execution_count": 23,
   "id": "04508b0e",
   "metadata": {},
   "outputs": [],
   "source": [
    "def get_x(angles, theta_uncert):\n",
    "    '''Calculates x, defined as e^{-bT/2} based on a series of turning point angles for the oscillator in free decay.\n",
    "    Parameters - \n",
    "    angles: an array of consecutive turning points, given in mrad. Assumes an odd number of elements.\n",
    "    theta_uncert: uncertainty in the angle of each turning point, in mrad, assumed to always be the same\n",
    "    Returns - \n",
    "    (x, uncert): a tuple of x and its uncertainty\n",
    "    '''\n",
    "    angles = angles / 1000.\n",
    "    theta_uncert = theta_uncert / 1000.\n",
    "    \n",
    "    x1 = 1. - ((angles[0] - angles[-1]) / (np.sum(angles[0::2]) - np.sum(angles[1::2])))\n",
    "    x2 = 1. - (((angles[1:-1])[0] - (angles[1:-1])[-1]) / (np.sum((angles[1:-1])[0::2]) - np.sum((angles[1:-1])[1::2])))\n",
    "    x = (x1 + x2) / 2.\n",
    "    \n",
    "    x_uncert = theta_uncert * (1-x) * np.sqrt((len(angles) - 1) * (1-x)**2 + 2*x) / (np.abs(angles[0] - angles[-1]))\n",
    "    return (x, x_uncert)"
   ]
  },
  {
   "cell_type": "code",
   "execution_count": 24,
   "id": "5debec99",
   "metadata": {},
   "outputs": [
    {
     "name": "stdout",
     "output_type": "stream",
     "text": [
      "0.8006446500868916 ± 0.0013465859746593367\n"
     ]
    }
   ],
   "source": [
    "free_angles = np.array([56.12, 8.0, 47.23, 15.58, 41.93, 20.48, 37.94, 23.70, 36.03, 26.47, 35.19])\n",
    "(x, x_unc) = get_x(free_angles, 0.1);\n",
    "print(x, \"±\", x_unc)"
   ]
  },
  {
   "cell_type": "code",
   "execution_count": 25,
   "id": "d11fdfd9",
   "metadata": {},
   "outputs": [],
   "source": [
    "def get_theta_d(angles, x, theta_uncert, x_uncert):\n",
    "    '''Finds the displacement of equilibrium from that of free decay when the large masses are in place.\n",
    "    Parameters - \n",
    "    angles: an array of consecutive turning points when the oscillator is being driven, in mrad. Assumes odd number of elements.\n",
    "    x: determined by get_x, using free oscillations\n",
    "    theta_uncert: uncertainty in the angle of each turning point, in mrad, assumed to always be the same\n",
    "    x_uncert: uncertainty in x in mrad, also determined by get_x\n",
    "    Returns - \n",
    "    (theta_d, uncert): a tuple of the displacement and its uncertainty\n",
    "    '''\n",
    "    angles = angles / 1000.\n",
    "    theta_uncert = theta_uncert / 1000.\n",
    "    x_uncert = x_uncert / 1000.\n",
    "    \n",
    "    theta_d = ((1-x)*(np.sum(angles[0::2]) - np.sum(angles[1::2])) - angles[0] + x*angles[-1]) / ((len(angles) - 1) * (1 + x))\n",
    "    \n",
    "    uncert1 = theta_uncert * np.sqrt((len(angles) - 1) * (1-x)**2 + 2*x) / ((len(angles) - 1) * (1+x))\n",
    "    uncert2 = x_uncert * (2*(np.sum(angles[0::2]) - np.sum(angles[1::2]) - angles[-1]) + (angles[-1] - angles[0])) / ((len(angles) - 1) * (1 + x)**2)\n",
    "    uncert = np.sqrt(uncert1**2 + uncert2**2)\n",
    "    return (theta_d, uncert)"
   ]
  },
  {
   "cell_type": "code",
   "execution_count": 26,
   "id": "639c8af1",
   "metadata": {},
   "outputs": [],
   "source": [
    "def get_K(period, m, r, d, mb, lb, wb):\n",
    "    '''\n",
    "    period: period of oscillation in seconds\n",
    "    m: mass of each small sphere, assumed to be both equal\n",
    "    r: radius of each small sphere, in meters\n",
    "    d: distance from center of beam to each small sphere, in meters\n",
    "    mb: mass of beam\n",
    "    lb: length of beam\n",
    "    wb: width of beam\n",
    "    '''\n",
    "    \n",
    "    m_unc = 0.0001\n",
    "    d_unc = 0.001\n",
    "    r_unc = 0.00001\n",
    "    T_unc = 10\n",
    "    \n",
    "    Is = 2*(m*d**2 + (2./5.)*m*r**2)\n",
    "    Ib = mb*(lb**2 + wb**2) / 12.1\n",
    "    I = Is + Ib\n",
    "    K = ((4*np.pi**2) / period**2) * I\n",
    "    \n",
    "    I_unc_1 = m_unc * (2*d**2 + (4./5)*r**2)\n",
    "    I_unc_2 = d_unc * 4*m*d\n",
    "    I_unc_3 = r_unc * (8./5)*m*r\n",
    "    \n",
    "    I_unc = np.sqrt(I_unc_1**2 + I_unc_2**2 + I_unc_3**2)\n",
    "    \n",
    "    K_unc = ((4*np.pi**2) / (period**2)) * np.sqrt(I_unc**2 + (4 * I**2 * T_unc**2)/(period**2))\n",
    "    \n",
    "    return (K, K_unc)"
   ]
  },
  {
   "cell_type": "code",
   "execution_count": 27,
   "id": "a2d0303d",
   "metadata": {},
   "outputs": [],
   "source": [
    "def get_I(period, m, r, d, mb, lb, wb):\n",
    "    '''\n",
    "    period: period of oscillation in seconds\n",
    "    m: mass of each small sphere, assumed to be both equal\n",
    "    r: radius of each small sphere, in meters\n",
    "    d: distance from center of beam to each small sphere, in meters\n",
    "    mb: mass of beam\n",
    "    lb: length of beam\n",
    "    wb: width of beam\n",
    "    '''\n",
    "    \n",
    "    Is = 2*(m*d**2 + (2./5.)*m*r**2)\n",
    "    Ib = mb*(lb**2 + wb**2) / 12.\n",
    "    I = Is + Ib\n",
    "    return I"
   ]
  },
  {
   "cell_type": "code",
   "execution_count": 81,
   "id": "ec6407f5",
   "metadata": {},
   "outputs": [],
   "source": [
    "def get_G(K, theta_d, R, M, m, d, K_unc, theta_d_unc): #This does not have the corrections\n",
    "    '''\n",
    "    K: found from get_K\n",
    "    theta_d: found from get_theta_d\n",
    "    R: distance between the centers of the large and small spheres\n",
    "    M: mass of each large sphere\n",
    "    m: mass of each small sphere\n",
    "    d: distance from center of beam to each small sphere\n",
    "    '''\n",
    "    \n",
    "    R_unc = 0.005\n",
    "    M_unc = 0.0001\n",
    "    m_unc = 0.00001\n",
    "    d_unc = 0.001\n",
    "    \n",
    "    G = (K * theta_d * R**2) / (2 * M * m * d)\n",
    "    \n",
    "    G_unc = ((R) / (M*m*d)) * np.sqrt( (theta_d**2 * R**2 * K_unc**2)/(4) + (K**2 * R**2 * theta_d_unc**2)/(4) + (K**2 * theta_d**2 * R_unc**2)/(1) + (K**2 * theta_d**2 * R**2 * M_unc**2)/(4*M**2) + (K**2 * theta_d**2 * R**2 * m_unc**2)/(4*m**2) + (K**2 * theta_d**2 * R**2 * d_unc**2)/(4*d**2))\n",
    "    \n",
    "    return (G, G_unc)"
   ]
  },
  {
   "cell_type": "code",
   "execution_count": 82,
   "id": "f14109cb",
   "metadata": {},
   "outputs": [
    {
     "name": "stdout",
     "output_type": "stream",
     "text": [
      "8.929892181196249e-08 ± 7.2924684736530944e-09\n"
     ]
    }
   ],
   "source": [
    "K, K_unc = get_K(260, 0.01548, 0.00684, 0.0662, 0.0091, 0.1483, 0.01205);\n",
    "print(K, \"±\", K_unc)"
   ]
  },
  {
   "cell_type": "code",
   "execution_count": 104,
   "id": "9141a8da",
   "metadata": {},
   "outputs": [
    {
     "name": "stdout",
     "output_type": "stream",
     "text": [
      "0.0013364464937132877 ± 1.8420458213445837e-05\n"
     ]
    }
   ],
   "source": [
    "driven_angles = np.array([47.11, 17.52, 46.68, 20.21, 45.56])\n",
    "\n",
    "theta_d, theta_d_unc = get_theta_d(driven_angles, x, 0.1, x_unc)\n",
    "print(theta_d, \"±\", theta_d_unc)"
   ]
  },
  {
   "cell_type": "code",
   "execution_count": 105,
   "id": "ea6dcb93",
   "metadata": {},
   "outputs": [
    {
     "name": "stdout",
     "output_type": "stream",
     "text": [
      "1.523327660898296e-10 ± 3.4229245442399066e-11\n"
     ]
    }
   ],
   "source": [
    "G, G_unc = get_G(K, theta_d, 0.048, 0.8807, 0.01548, 0.0662, K_unc, theta_d_unc)\n",
    "print(G, \"±\", G_unc)"
   ]
  },
  {
   "cell_type": "code",
   "execution_count": 99,
   "id": "8c5f0b17",
   "metadata": {},
   "outputs": [
    {
     "name": "stdout",
     "output_type": "stream",
     "text": [
      "0.0012520140607685665 ± 7.851415400852486e-06\n"
     ]
    }
   ],
   "source": [
    "driven_angles2 = np.array([25.08, -11.44, 24.39, -10.94, 22.70, -8.88, 20.14, -6.93, 18.63, -5.49, 16.80])\n",
    "theta_d2, theta_d2_unc = get_theta_d(driven_angles2, x, 0.1, x_unc)\n",
    "print(theta_d2, \"±\", theta_d2_unc)"
   ]
  },
  {
   "cell_type": "code",
   "execution_count": 100,
   "id": "29982df5",
   "metadata": {},
   "outputs": [
    {
     "name": "stdout",
     "output_type": "stream",
     "text": [
      "1.4270886710197926e-10 ± 3.2018875632197715e-11\n"
     ]
    }
   ],
   "source": [
    "G2, G2_unc = get_G(K, theta_d2, 0.048, 0.8807, 0.01548, 0.0662, K_unc, theta_d2_unc)\n",
    "print(G2, \"±\", G2_unc)"
   ]
  },
  {
   "cell_type": "code",
   "execution_count": 101,
   "id": "50d06448",
   "metadata": {},
   "outputs": [
    {
     "name": "stdout",
     "output_type": "stream",
     "text": [
      "1.457976904245759e-10 ± 3.4229245442399066e-11\n",
      "1.3658665670330434e-10 ± 3.2018875632197715e-11\n"
     ]
    }
   ],
   "source": [
    "G_corrected = G*0.9571\n",
    "G2_corrected = G2*0.9571\n",
    "print(G_corrected, \"±\", G_unc)\n",
    "print(G2_corrected, \"±\", G2_unc)"
   ]
  },
  {
   "cell_type": "code",
   "execution_count": 109,
   "id": "cfb672b9",
   "metadata": {},
   "outputs": [
    {
     "name": "stdout",
     "output_type": "stream",
     "text": [
      "1.4119217356394014e-10 ± 3.312406053729839e-11\n"
     ]
    }
   ],
   "source": [
    "print(0.5 * (G_corrected + G2_corrected), \"±\", 0.5 * (G_unc + G2_unc))"
   ]
  },
  {
   "cell_type": "code",
   "execution_count": null,
   "id": "44b18764",
   "metadata": {},
   "outputs": [],
   "source": []
  }
 ],
 "metadata": {
  "kernelspec": {
   "display_name": "Python 3 (ipykernel)",
   "language": "python",
   "name": "python3"
  },
  "language_info": {
   "codemirror_mode": {
    "name": "ipython",
    "version": 3
   },
   "file_extension": ".py",
   "mimetype": "text/x-python",
   "name": "python",
   "nbconvert_exporter": "python",
   "pygments_lexer": "ipython3",
   "version": "3.11.5"
  }
 },
 "nbformat": 4,
 "nbformat_minor": 5
}
